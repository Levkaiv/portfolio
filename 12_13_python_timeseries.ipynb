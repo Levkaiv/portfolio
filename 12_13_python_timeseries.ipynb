{
 "cells": [
  {
   "cell_type": "markdown",
   "metadata": {},
   "source": [
    "<center>\n",
    "<img src=\"../logo.png\" height=\"900\"> \n",
    "</center>\n",
    "\n",
    "\n",
    "#  Временные ряды\n",
    "\n",
    "__Тут выражается благодарность [Сергееву Дмитрию](https://github.com/DmitrySerg) за помощь в создании материалов.__ \n",
    "\n",
    "\n",
    "Московские диаметры на самом деле не диаметры, а временные ряды на самом деле не ряды. \n",
    "\n",
    "> Временной ряд – это последовательность случайных величин, измеренных в последовательные моменты времени, обычно через равные промежутки"
   ]
  },
  {
   "cell_type": "code",
   "execution_count": 1,
   "metadata": {},
   "outputs": [],
   "source": [
    "import numpy as np\n",
    "import pandas as pd\n",
    "\n",
    "from scipy import stats \n",
    "\n",
    "import matplotlib.pyplot as plt\n",
    "# plt.style.use('seaborn-whitegrid')\n",
    "\n",
    "import seaborn as sns\n",
    "\n",
    "%matplotlib inline"
   ]
  },
  {
   "cell_type": "code",
   "execution_count": 2,
   "metadata": {},
   "outputs": [],
   "source": [
    "import warnings \n",
    "warnings.filterwarnings('ignore')"
   ]
  },
  {
   "cell_type": "markdown",
   "metadata": {},
   "source": [
    "# 1. Данные \n",
    "\n",
    "Работать будем с просмотрами рекламы. Данные будут часовыми."
   ]
  },
  {
   "cell_type": "code",
   "execution_count": 3,
   "metadata": {},
   "outputs": [
    {
     "name": "stdout",
     "output_type": "stream",
     "text": [
      "(216, 1)\n"
     ]
    },
    {
     "data": {
      "application/vnd.microsoft.datawrangler.viewer.v0+json": {
       "columns": [
        {
         "name": "Time",
         "rawType": "datetime64[ns]",
         "type": "datetime"
        },
        {
         "name": "Ads",
         "rawType": "int64",
         "type": "integer"
        }
       ],
       "ref": "a1a4d0cb-09fe-4211-a85b-d964dc4ec77d",
       "rows": [
        [
         "2017-09-13 00:00:00",
         "80115"
        ],
        [
         "2017-09-13 01:00:00",
         "79885"
        ],
        [
         "2017-09-13 02:00:00",
         "89325"
        ],
        [
         "2017-09-13 03:00:00",
         "101930"
        ],
        [
         "2017-09-13 04:00:00",
         "121630"
        ]
       ],
       "shape": {
        "columns": 1,
        "rows": 5
       }
      },
      "text/html": [
       "<div>\n",
       "<style scoped>\n",
       "    .dataframe tbody tr th:only-of-type {\n",
       "        vertical-align: middle;\n",
       "    }\n",
       "\n",
       "    .dataframe tbody tr th {\n",
       "        vertical-align: top;\n",
       "    }\n",
       "\n",
       "    .dataframe thead th {\n",
       "        text-align: right;\n",
       "    }\n",
       "</style>\n",
       "<table border=\"1\" class=\"dataframe\">\n",
       "  <thead>\n",
       "    <tr style=\"text-align: right;\">\n",
       "      <th></th>\n",
       "      <th>Ads</th>\n",
       "    </tr>\n",
       "    <tr>\n",
       "      <th>Time</th>\n",
       "      <th></th>\n",
       "    </tr>\n",
       "  </thead>\n",
       "  <tbody>\n",
       "    <tr>\n",
       "      <th>2017-09-13 00:00:00</th>\n",
       "      <td>80115</td>\n",
       "    </tr>\n",
       "    <tr>\n",
       "      <th>2017-09-13 01:00:00</th>\n",
       "      <td>79885</td>\n",
       "    </tr>\n",
       "    <tr>\n",
       "      <th>2017-09-13 02:00:00</th>\n",
       "      <td>89325</td>\n",
       "    </tr>\n",
       "    <tr>\n",
       "      <th>2017-09-13 03:00:00</th>\n",
       "      <td>101930</td>\n",
       "    </tr>\n",
       "    <tr>\n",
       "      <th>2017-09-13 04:00:00</th>\n",
       "      <td>121630</td>\n",
       "    </tr>\n",
       "  </tbody>\n",
       "</table>\n",
       "</div>"
      ],
      "text/plain": [
       "                        Ads\n",
       "Time                       \n",
       "2017-09-13 00:00:00   80115\n",
       "2017-09-13 01:00:00   79885\n",
       "2017-09-13 02:00:00   89325\n",
       "2017-09-13 03:00:00  101930\n",
       "2017-09-13 04:00:00  121630"
      ]
     },
     "execution_count": 3,
     "metadata": {},
     "output_type": "execute_result"
    }
   ],
   "source": [
    "ads = pd.read_csv('ads.csv', index_col=['Time'], parse_dates=['Time']).asfreq('H')\n",
    "print(ads.shape)\n",
    "ads.head()"
   ]
  },
  {
   "cell_type": "code",
   "execution_count": 4,
   "metadata": {},
   "outputs": [],
   "source": [
    "from sktime.utils.plotting import plot_series\n",
    "\n",
    "plt.figure(figsize=(15, 6))\n",
    "y = ads.Ads/10**3  # в тысячах :)\n",
    "\n",
    "plot_series(y)\n",
    "plt.title('Просмотры рекламы (тыс. часов)', fontsize=20, color='black')\n",
    "plt.tick_params(axis = 'both', which = 'major', labelsize = 14);"
   ]
  },
  {
   "cell_type": "markdown",
   "metadata": {},
   "source": [
    "# 2. Метрики качества прогноза\n",
    "\n",
    "Рассмотрим основные и самые распространенные метрики качества прогнозов, которые, по большому счету, являются метриками для задачи регрессии и используются далеко не только во временных рядах."
   ]
  },
  {
   "cell_type": "markdown",
   "metadata": {},
   "source": [
    "\n",
    "- [Mean Absolute Error](http://scikit-learn.org/stable/modules/model_evaluation.html#mean-absolute-error), интерпретируемая метрика, измеряется в тех же единицах, что и исходный ряд, $[0, +\\infty)$\n",
    "\n",
    "$MAE = \\frac{\\sum\\limits_{i=1}^{n} |y_i - \\hat{y}_i|}{n}$ \n",
    "\n",
    "```python\n",
    "sklearn.metrics.mean_absolute_error\n",
    "```\n",
    "---\n",
    "- [Median Absolute Error](http://scikit-learn.org/stable/modules/model_evaluation.html#median-absolute-error), также интерпретируемая метрика, однако её преимущество - нечувствительность (робастность) к выбросам в данных, $[0, +\\infty)$\n",
    "\n",
    "$MedAE = median(|y_1 - \\hat{y}_1|, ... , |y_n - \\hat{y}_n|)$\n",
    "\n",
    "```python\n",
    "sklearn.metrics.median_absolute_error\n",
    "```\n",
    "---\n",
    "- [Mean Squared Error](http://scikit-learn.org/stable/modules/model_evaluation.html#mean-squared-error), используется в большинстве случаев, сильнее наказывает модель за большие ошибки и меньше - за маленькие (парабола), $[0, +\\infty)$\n",
    "\n",
    "$MSE = \\frac{1}{n}\\sum\\limits_{i=1}^{n} (y_i - \\hat{y}_i)^2$\n",
    "\n",
    "```python\n",
    "sklearn.metrics.mean_squared_error\n",
    "```\n",
    "---\n",
    "- [Mean Squared Logarithmic Error](http://scikit-learn.org/stable/modules/model_evaluation.html#mean-squared-logarithmic-error), практически тоже самое, но значения предварительно логарифмируются, таким образом маленьким ошибкам также уделяется значительное внимание, обычно используется, если данным присущ экспоненциальный рост, $[0, +\\infty)$\n",
    "\n",
    "$MSLE = \\frac{1}{n}\\sum\\limits_{i=1}^{n} (log(1+y_i) - log(1+\\hat{y}_i))^2$\n",
    "\n",
    "```python\n",
    "sklearn.metrics.mean_squared_log_error\n",
    "```\n",
    "---\n",
    "- Mean Absolute Percentage Error, как MAE, только в процентах, - удобно для объяснения заказчику качества прогноза, $[0, +\\infty)$\n",
    "\n",
    "$MAPE = \\frac{100}{n}\\sum\\limits_{i=1}^{n} \\frac{|y_i - \\hat{y}_i|}{y_i}$ \n",
    "\n",
    "```python\n",
    "def mean_absolute_percentage_error(y_true, y_pred): \n",
    "    return np.mean(np.abs((y_true - y_pred) / y_true)) * 100\n",
    "```\n",
    "---\n",
    "- [Mean absolute scaled error](https://en.wikipedia.org/wiki/Mean_absolute_scaled_error), аналог $R^2$ для временных рядов. Тоже сравнивает прогноз по вашей модели с наивным и говорит насколько он оказался лучше."
   ]
  },
  {
   "cell_type": "markdown",
   "metadata": {},
   "source": [
    "Мы будем ниже пользоваться MAPE."
   ]
  },
  {
   "cell_type": "code",
   "execution_count": 5,
   "metadata": {},
   "outputs": [],
   "source": [
    "def mape(y_true, y_pred): \n",
    "    return np.mean(np.abs((y_true - y_pred) / y_true)) * 100"
   ]
  },
  {
   "cell_type": "markdown",
   "metadata": {},
   "source": [
    "# 3. Библиотеки\n",
    "\n",
    "С библиотеками для временных рядов дело обстоит не очень хорошо. Их довольно много и они мелкие. Нет большой общей библиотеки вроде sklearn, которая могла бы предоставить общий удобный интерфейс для работы. \n",
    "\n",
    "Однако совсем недавно начали создавать свежую библиотеку  [sktime,](https://www.sktime.org/en/latest/) которая развивается как раз в парадигме sklearn. Она совместима со sklearn, умеет строить предиктивные интервалы и автоматически перебирать модели. Также в ней можно строить ансамбли. Её мы и попробуем использовать.\n",
    "\n",
    "Библиотеку нужно поставить через pip: `pip3 install sktime`. Подробную инструкцию по установке [ищите в документации.](https://www.sktime.org/en/latest/installation.html) Библиотека statsmodels должна быть версии 0.12.0 и выше. Обратите внимание, что определённые кусочки моделей могут быть нереализованы. Вы можете реализовать их сами на python и принять участие в создании библиотеки.\n",
    "\n",
    "Библиотека включает в себя возможности `statsmodels` и `pmdarima`. Если вам хочется попробовать какие-то другие библиотеки, [на вот этой страничке](https://github.com/MaxBenChrist/awesome_time_series_in_python) есть довольно удобный список. Из него довольно интересно выглядит библиотека `prophet` от facebook"
   ]
  },
  {
   "cell_type": "code",
   "execution_count": 6,
   "metadata": {},
   "outputs": [
    {
     "name": "stdout",
     "output_type": "stream",
     "text": [
      "0.14.2\n"
     ]
    }
   ],
   "source": [
    "import statsmodels\n",
    "print(statsmodels.__version__)"
   ]
  },
  {
   "cell_type": "code",
   "execution_count": 7,
   "metadata": {},
   "outputs": [
    {
     "name": "stdout",
     "output_type": "stream",
     "text": [
      "0.37.0\n"
     ]
    }
   ],
   "source": [
    "import sktime\n",
    "print(sktime.__version__)"
   ]
  },
  {
   "cell_type": "markdown",
   "metadata": {},
   "source": [
    "Разбиение данных на обучение и контроль."
   ]
  },
  {
   "cell_type": "code",
   "execution_count": 8,
   "metadata": {},
   "outputs": [
    {
     "data": {
      "text/plain": [
       "9"
      ]
     },
     "execution_count": 8,
     "metadata": {},
     "output_type": "execute_result"
    }
   ],
   "source": [
    "y.size // 24"
   ]
  },
  {
   "cell_type": "code",
   "execution_count": 9,
   "metadata": {},
   "outputs": [
    {
     "name": "stdout",
     "output_type": "stream",
     "text": [
      "168 48\n"
     ]
    }
   ],
   "source": [
    "from sktime.forecasting.model_selection import temporal_train_test_split\n",
    "\n",
    "y_train, y_test = temporal_train_test_split(y, test_size=48)\n",
    "plot_series(y_train, y_test, labels=[\"y_train\", \"y_test\"])\n",
    "print(y_train.shape[0], y_test.shape[0])"
   ]
  },
  {
   "cell_type": "markdown",
   "metadata": {},
   "source": [
    "Чтобы прогнозы корректно индексировались, заведём отдельную переменную с индексами-датами. "
   ]
  },
  {
   "cell_type": "code",
   "execution_count": 10,
   "metadata": {},
   "outputs": [
    {
     "data": {
      "text/plain": [
       "ForecastingHorizon(['2017-09-20 00:00:00', '2017-09-20 01:00:00',\n",
       "               '2017-09-20 02:00:00', '2017-09-20 03:00:00',\n",
       "               '2017-09-20 04:00:00', '2017-09-20 05:00:00',\n",
       "               '2017-09-20 06:00:00', '2017-09-20 07:00:00',\n",
       "               '2017-09-20 08:00:00', '2017-09-20 09:00:00',\n",
       "               '2017-09-20 10:00:00', '2017-09-20 11:00:00',\n",
       "               '2017-09-20 12:00:00', '2017-09-20 13:00:00',\n",
       "               '2017-09-20 14:00:00', '2017-09-20 15:00:00',\n",
       "               '2017-09-20 16:00:00', '2017-09-20 17:00:00',\n",
       "               '2017-09-20 18:00:00', '2017-09-20 19:00:00',\n",
       "               '2017-09-20 20:00:00', '2017-09-20 21:00:00',\n",
       "               '2017-09-20 22:00:00', '2017-09-20 23:00:00',\n",
       "               '2017-09-21 00:00:00', '2017-09-21 01:00:00',\n",
       "               '2017-09-21 02:00:00', '2017-09-21 03:00:00',\n",
       "               '2017-09-21 04:00:00', '2017-09-21 05:00:00',\n",
       "               '2017-09-21 06:00:00', '2017-09-21 07:00:00',\n",
       "               '2017-09-21 08:00:00', '2017-09-21 09:00:00',\n",
       "               '2017-09-21 10:00:00', '2017-09-21 11:00:00',\n",
       "               '2017-09-21 12:00:00', '2017-09-21 13:00:00',\n",
       "               '2017-09-21 14:00:00', '2017-09-21 15:00:00',\n",
       "               '2017-09-21 16:00:00', '2017-09-21 17:00:00',\n",
       "               '2017-09-21 18:00:00', '2017-09-21 19:00:00',\n",
       "               '2017-09-21 20:00:00', '2017-09-21 21:00:00',\n",
       "               '2017-09-21 22:00:00', '2017-09-21 23:00:00'],\n",
       "              dtype='datetime64[ns]', freq='h', is_relative=False)"
      ]
     },
     "execution_count": 10,
     "metadata": {},
     "output_type": "execute_result"
    }
   ],
   "source": [
    "from sktime.forecasting.base import ForecastingHorizon\n",
    "fh = ForecastingHorizon(y_test.index, is_relative=False)\n",
    "fh"
   ]
  },
  {
   "cell_type": "markdown",
   "metadata": {},
   "source": [
    "# 4. Наивный прогноз\n",
    "\n",
    "Можно построить наивный прогноз с помощью разных стратегий. Например, как последнее значение. "
   ]
  },
  {
   "cell_type": "code",
   "execution_count": 11,
   "metadata": {},
   "outputs": [],
   "source": [
    "from sktime.forecasting.naive import NaiveForecaster\n",
    "\n",
    "forecaster = NaiveForecaster(strategy=\"last\")\n",
    "forecaster.fit(y_train)\n",
    "\n",
    "y_pred = forecaster.predict(fh)\n",
    "\n",
    "plot_series(y_train, y_test, y_pred, labels=[\"y_train\", \"y_test\", \"y_pred\"]);"
   ]
  },
  {
   "cell_type": "code",
   "execution_count": 12,
   "metadata": {},
   "outputs": [
    {
     "data": {
      "text/plain": [
       "47.78000294352635"
      ]
     },
     "execution_count": 12,
     "metadata": {},
     "output_type": "execute_result"
    }
   ],
   "source": [
    "mape(y_pred, y_test)"
   ]
  },
  {
   "cell_type": "markdown",
   "metadata": {},
   "source": [
    "Либо среднего за последние `window_length` наблюдений. "
   ]
  },
  {
   "cell_type": "code",
   "execution_count": 13,
   "metadata": {},
   "outputs": [],
   "source": [
    "forecaster = NaiveForecaster(strategy=\"mean\", window_length=48)\n",
    "forecaster.fit(y_train)\n",
    "\n",
    "y_pred = forecaster.predict(fh)\n",
    "\n",
    "plot_series(y_train, y_test, y_pred, labels=[\"y_train\", \"y_test\", \"y_pred\"]);"
   ]
  },
  {
   "cell_type": "code",
   "execution_count": 14,
   "metadata": {},
   "outputs": [
    {
     "data": {
      "text/plain": [
       "19.02365319048165"
      ]
     },
     "execution_count": 14,
     "metadata": {},
     "output_type": "execute_result"
    }
   ],
   "source": [
    "mape(y_pred, y_test)"
   ]
  },
  {
   "cell_type": "markdown",
   "metadata": {},
   "source": [
    "Можно с помощью сезонного последнего значения."
   ]
  },
  {
   "cell_type": "code",
   "execution_count": 15,
   "metadata": {},
   "outputs": [],
   "source": [
    "forecaster = NaiveForecaster(strategy=\"last\", sp=24)\n",
    "forecaster.fit(y_train)\n",
    "\n",
    "y_pred = forecaster.predict(fh)\n",
    "\n",
    "plot_series(y_train, y_test, y_pred, labels=[\"y_train\", \"y_test\", \"y_pred\"]);"
   ]
  },
  {
   "cell_type": "code",
   "execution_count": 16,
   "metadata": {},
   "outputs": [
    {
     "data": {
      "text/plain": [
       "4.170703497277533"
      ]
     },
     "execution_count": 16,
     "metadata": {},
     "output_type": "execute_result"
    }
   ],
   "source": [
    "mape(y_pred, y_test)"
   ]
  },
  {
   "cell_type": "markdown",
   "metadata": {},
   "source": [
    "Самый лучший из наивных прогнозов, в виде последнего сезонного значения, мы и будем использовать в качестве базового решения. Обратите внимание, что если бы модель содержала тренд, было бы логично как-то учесть его в вашем наивном прогнозе. Иначе любая модель будет его превосходить по качеству, что не очень честно. "
   ]
  },
  {
   "cell_type": "markdown",
   "metadata": {},
   "source": [
    "# 5. ETS - модели "
   ]
  },
  {
   "cell_type": "markdown",
   "metadata": {},
   "source": [
    "### ETS(ANN)"
   ]
  },
  {
   "cell_type": "code",
   "execution_count": 17,
   "metadata": {},
   "outputs": [],
   "source": [
    "from sktime.forecasting.exp_smoothing import ExponentialSmoothing\n",
    "\n",
    "# ETS(ANN)   старое название: Simple exponential smoothing\n",
    "forecaster = ExponentialSmoothing()\n",
    "forecaster.fit(y_train)\n",
    "\n",
    "y_pred = forecaster.predict(fh)\n",
    "\n",
    "plot_series(y_train, y_test, y_pred, labels=[\"y_train\", \"y_test\", \"y_pred\"]);"
   ]
  },
  {
   "cell_type": "code",
   "execution_count": 18,
   "metadata": {},
   "outputs": [
    {
     "data": {
      "text/plain": [
       "29.316225597326962"
      ]
     },
     "execution_count": 18,
     "metadata": {},
     "output_type": "execute_result"
    }
   ],
   "source": [
    "mape(y_test, y_pred)"
   ]
  },
  {
   "cell_type": "code",
   "execution_count": 19,
   "metadata": {},
   "outputs": [
    {
     "data": {
      "text/plain": [
       "{'initial_level': 77.85072200520828,\n",
       " 'initial_slope': None,\n",
       " 'initial_seasons': array([], dtype=float64),\n",
       " 'aic': 835.9341340282649,\n",
       " 'bic': 842.1820619870714,\n",
       " 'aicc': 836.1795328012711}"
      ]
     },
     "execution_count": 19,
     "metadata": {},
     "output_type": "execute_result"
    }
   ],
   "source": [
    "forecaster.get_fitted_params()"
   ]
  },
  {
   "cell_type": "markdown",
   "metadata": {},
   "source": [
    "Если попросить интервальные прогнозы, пакет скажет, что они не реализованы. Вы знаете как их сделать и можете попробовать реализовать для этого пакета на базе statsmodels. Как строить интервальные прогнозы в нём, мы посмотрим ниже."
   ]
  },
  {
   "cell_type": "markdown",
   "metadata": {},
   "source": [
    "### ETS(AAA)"
   ]
  },
  {
   "cell_type": "code",
   "execution_count": 24,
   "metadata": {},
   "outputs": [
    {
     "data": {
      "text/plain": [
       "(<Figure size 1600x400 with 1 Axes>, <Axes: ylabel='Ads'>)"
      ]
     },
     "execution_count": 24,
     "metadata": {},
     "output_type": "execute_result"
    }
   ],
   "source": [
    "# ETS(ANN)   старое название: Simple exponential smoothing\n",
    "forecaster = ExponentialSmoothing(trend=\"add\", seasonal=\"add\", sp=24)\n",
    "forecaster.fit(y_train)\n",
    "\n",
    "y_pred = forecaster.predict(fh)\n",
    "\n",
    "plot_series(y_train, y_test, y_pred, labels=[\"y_train\", \"y_test\", \"y_pred\"])"
   ]
  },
  {
   "cell_type": "code",
   "execution_count": 22,
   "metadata": {},
   "outputs": [
    {
     "data": {
      "text/plain": [
       "4.2265347888018745"
      ]
     },
     "execution_count": 22,
     "metadata": {},
     "output_type": "execute_result"
    }
   ],
   "source": [
    "mape(y_test, y_pred)"
   ]
  },
  {
   "cell_type": "code",
   "execution_count": null,
   "metadata": {},
   "outputs": [
    {
     "data": {
      "text/plain": [
       "{'initial_level': 80.66577867694073,\n",
       " 'initial_slope': None,\n",
       " 'initial_seasons': array([-0.51439791, -1.88268478,  5.06372944, 16.98127147, 37.50726009,\n",
       "        36.91750499, 33.39777296, 31.2778113 , 32.56089178, 35.45478882,\n",
       "        47.60980212, 62.26394383, 70.88526791, 67.62135501, 68.40858758,\n",
       "        67.53938742, 67.75185845, 70.30551097, 77.79805318, 77.2860034 ,\n",
       "        52.72110656, 27.7796507 , 14.21593219,  2.21877498]),\n",
       " 'smoothing_level': 0.9999999850988388,\n",
       " 'smoothing_slope': None,\n",
       " 'smoothing_seasonal': 1.6009681010784822e-10,\n",
       " 'damping_slope': None}"
      ]
     },
     "execution_count": 23,
     "metadata": {},
     "output_type": "execute_result"
    }
   ],
   "source": [
    "forecaster.get_fitted_params()"
   ]
  },
  {
   "cell_type": "markdown",
   "metadata": {},
   "source": [
    "### Auto-ETS\n",
    "\n",
    "Можно перебрать все ETS модели и выбрать лучшую по какому-то критерию. "
   ]
  },
  {
   "cell_type": "code",
   "execution_count": 25,
   "metadata": {},
   "outputs": [],
   "source": [
    "from sktime.forecasting.ets import AutoETS\n",
    "\n",
    "# Делаем перебор и выбираем лучшую модель по информационному критерию\n",
    "forecaster = AutoETS(auto=True, n_jobs=-1, information_criterion='bic')\n",
    "forecaster.fit(y_train)\n",
    "\n",
    "y_pred = forecaster.predict(fh)\n",
    "plot_series(y_train, y_test, y_pred, labels=[\"y_train\", \"y_test\", \"y_pred\"]);"
   ]
  },
  {
   "cell_type": "code",
   "execution_count": 26,
   "metadata": {},
   "outputs": [
    {
     "data": {
      "text/plain": [
       "71.62216025800235"
      ]
     },
     "execution_count": 26,
     "metadata": {},
     "output_type": "execute_result"
    }
   ],
   "source": [
    "mape(y_test, y_pred)"
   ]
  },
  {
   "cell_type": "markdown",
   "metadata": {},
   "source": [
    "### Доверительные интервалы\n",
    "\n",
    "К сожалению, в рамках `sktime` доверительные интервалы для ETS-моделей ещё не реализованы. Вы можете помочь развитию пакета и [реализовать их самостоятельно! :)](https://github.com/alan-turing-institute/sktime/issues) \n",
    "\n",
    "Сейчас ETS-модель опирается в этом пакете на модуль `exponential_smoothing` из пакета `statsmodels`. В нём доверительные интервалы не предусмотрены. В этом же пакете есть модуль `statespace`. Там доверительные интервалы уже есть. "
   ]
  },
  {
   "cell_type": "code",
   "execution_count": null,
   "metadata": {},
   "outputs": [
    {
     "ename": "NameError",
     "evalue": "name 'y_train' is not defined",
     "output_type": "error",
     "traceback": [
      "\u001b[1;31m---------------------------------------------------------------------------\u001b[0m",
      "\u001b[1;31mNameError\u001b[0m                                 Traceback (most recent call last)",
      "Cell \u001b[1;32mIn[18], line 3\u001b[0m\n\u001b[0;32m      1\u001b[0m \u001b[38;5;28;01mimport\u001b[39;00m \u001b[38;5;21;01mstatsmodels\u001b[39;00m\u001b[38;5;21;01m.\u001b[39;00m\u001b[38;5;21;01mapi\u001b[39;00m \u001b[38;5;28;01mas\u001b[39;00m \u001b[38;5;21;01msm\u001b[39;00m\n\u001b[1;32m----> 3\u001b[0m ets_aaa \u001b[38;5;241m=\u001b[39m sm\u001b[38;5;241m.\u001b[39mtsa\u001b[38;5;241m.\u001b[39mstatespace\u001b[38;5;241m.\u001b[39mExponentialSmoothing(y_train, trend\u001b[38;5;241m=\u001b[39m\u001b[38;5;28;01mTrue\u001b[39;00m, seasonal\u001b[38;5;241m=\u001b[39m\u001b[38;5;241m24\u001b[39m)\n\u001b[0;32m      4\u001b[0m ets_aaa_res \u001b[38;5;241m=\u001b[39m ets_aaa\u001b[38;5;241m.\u001b[39mfit()\n\u001b[0;32m      5\u001b[0m \u001b[38;5;28mprint\u001b[39m(ets_aaa_res\u001b[38;5;241m.\u001b[39msummary())\n",
      "\u001b[1;31mNameError\u001b[0m: name 'y_train' is not defined"
     ]
    }
   ],
   "source": [
    "import statsmodels.api as sm\n",
    "\n",
    "ets_aaa = sm.tsa.statespace.ExponentialSmoothing(y_train, trend=True, seasonal=24)\n",
    "ets_aaa_res = ets_aaa.fit()\n",
    "print(ets_aaa_res.summary())"
   ]
  },
  {
   "cell_type": "code",
   "execution_count": null,
   "metadata": {},
   "outputs": [
    {
     "data": {
      "text/html": [
       "<div>\n",
       "<style scoped>\n",
       "    .dataframe tbody tr th:only-of-type {\n",
       "        vertical-align: middle;\n",
       "    }\n",
       "\n",
       "    .dataframe tbody tr th {\n",
       "        vertical-align: top;\n",
       "    }\n",
       "\n",
       "    .dataframe thead th {\n",
       "        text-align: right;\n",
       "    }\n",
       "</style>\n",
       "<table border=\"1\" class=\"dataframe\">\n",
       "  <thead>\n",
       "    <tr style=\"text-align: right;\">\n",
       "      <th>Ads</th>\n",
       "      <th>mean</th>\n",
       "      <th>mean_se</th>\n",
       "      <th>mean_ci_lower</th>\n",
       "      <th>mean_ci_upper</th>\n",
       "    </tr>\n",
       "  </thead>\n",
       "  <tbody>\n",
       "    <tr>\n",
       "      <th>2017-09-20 00:00:00</th>\n",
       "      <td>76.508850</td>\n",
       "      <td>5.291217</td>\n",
       "      <td>66.138256</td>\n",
       "      <td>86.879444</td>\n",
       "    </tr>\n",
       "    <tr>\n",
       "      <th>2017-09-20 01:00:00</th>\n",
       "      <td>75.107132</td>\n",
       "      <td>7.482911</td>\n",
       "      <td>60.440897</td>\n",
       "      <td>89.773367</td>\n",
       "    </tr>\n",
       "    <tr>\n",
       "      <th>2017-09-20 02:00:00</th>\n",
       "      <td>82.013386</td>\n",
       "      <td>9.164962</td>\n",
       "      <td>64.050391</td>\n",
       "      <td>99.976381</td>\n",
       "    </tr>\n",
       "    <tr>\n",
       "      <th>2017-09-20 03:00:00</th>\n",
       "      <td>93.881254</td>\n",
       "      <td>10.583227</td>\n",
       "      <td>73.138509</td>\n",
       "      <td>114.623998</td>\n",
       "    </tr>\n",
       "    <tr>\n",
       "      <th>2017-09-20 04:00:00</th>\n",
       "      <td>114.355416</td>\n",
       "      <td>11.832940</td>\n",
       "      <td>91.163279</td>\n",
       "      <td>137.547552</td>\n",
       "    </tr>\n",
       "  </tbody>\n",
       "</table>\n",
       "</div>"
      ],
      "text/plain": [
       "Ads                        mean    mean_se  mean_ci_lower  mean_ci_upper\n",
       "2017-09-20 00:00:00   76.508850   5.291217      66.138256      86.879444\n",
       "2017-09-20 01:00:00   75.107132   7.482911      60.440897      89.773367\n",
       "2017-09-20 02:00:00   82.013386   9.164962      64.050391      99.976381\n",
       "2017-09-20 03:00:00   93.881254  10.583227      73.138509     114.623998\n",
       "2017-09-20 04:00:00  114.355416  11.832940      91.163279     137.547552"
      ]
     },
     "execution_count": 27,
     "metadata": {},
     "output_type": "execute_result"
    }
   ],
   "source": [
    "h = 48 # test_size\n",
    "df_forecast = ets_aaa_res.get_forecast(h).summary_frame()\n",
    "df_forecast.index = fh\n",
    "df_forecast.head()"
   ]
  },
  {
   "cell_type": "code",
   "execution_count": null,
   "metadata": {},
   "outputs": [
    {
     "data": {
      "image/png": "[encoded data removed]",
      "text/plain": [
       "<Figure size 1152x288 with 1 Axes>"
      ]
     },
     "metadata": {
      "needs_background": "light"
     },
     "output_type": "display_data"
    }
   ],
   "source": [
    "fig, ax = plot_series(y_train, y_test, df_forecast['mean'], labels=[\"y_train\", \"y_test\", \"y_pred\"])\n",
    "ax.fill_between(\n",
    "    ax.get_lines()[-1].get_xdata(),\n",
    "    df_forecast[\"mean_ci_lower\"],\n",
    "    df_forecast[\"mean_ci_upper\"],\n",
    "    alpha=0.2,\n",
    "    color=ax.get_lines()[-1].get_c(),\n",
    "    label=f\"95% prediction intervals\",\n",
    ")\n",
    "ax.legend(loc='lower left');"
   ]
  },
  {
   "cell_type": "code",
   "execution_count": null,
   "metadata": {
    "scrolled": true
   },
   "outputs": [
    {
     "data": {
      "text/plain": [
       "4.199859644314157"
      ]
     },
     "execution_count": 29,
     "metadata": {},
     "output_type": "execute_result"
    }
   ],
   "source": [
    "mape(y_test, df_forecast['mean'])"
   ]
  },
  {
   "cell_type": "markdown",
   "metadata": {},
   "source": [
    "## Диагностика модели\n",
    "\n",
    "Чтобы доверительный интервалы были корректными, надо чтобы выполнялись предпосылки модели. Ошибки должны быть независимо нормально распределены с нулевым средним и одинаковой дисперсией. Давайте посмотрим на них. "
   ]
  },
  {
   "cell_type": "code",
   "execution_count": null,
   "metadata": {},
   "outputs": [
    {
     "data": {
      "image/png": "[encoded data removed]",
      "text/plain": [
       "<Figure size 720x576 with 4 Axes>"
      ]
     },
     "metadata": {
      "needs_background": "light"
     },
     "output_type": "display_data"
    }
   ],
   "source": [
    "ets_aaa_res.plot_diagnostics(figsize=(10, 8));"
   ]
  },
  {
   "cell_type": "markdown",
   "metadata": {},
   "source": [
    "- Левый верхний график показывает динамику остатков во времени вокруг среднего. Мы видим, что математическое ожидание действительно совпадает с нулём. С дисперсией также всё в норме. \n",
    "\n",
    "- Правый нижний график называется коррелелограмма. По данным считается автокорреляция $Corr(u_t, u_{t-s})$. Голубым нарисован доверительный интервал для этих корреляций. Если корреляция лежит внутри интервала, гипотеза о её равенстве нулю не отвергается. Судя по всему $Corr(u_t, u_{t-3})$ и $Corr(u_t, u_{t-4})$ ненулевые. Это может быть связано с тем, что мы некорректно задали параметры, которые отвечают за сезонность.\n",
    "\n",
    "- На второстепенной диагонали находится распределение остатков и диаграмма квантиль-квантиль. Хвосты распределения оказываются тяжёлыми. \n",
    "\n",
    "Выполнения предпосылок модели можно попытаться добиться, поперебирав гиперпараметры модели. Либо можно попробовать сделать остатки более похожими на нормальные, сделав для исходного ряда преобразование Бокса-Кокса. \n",
    "\n",
    "Если нас не интересуют интервальные прогнозы, а интересуют только точечные, можно не добавиваться выполнения предпосылки о нормальности. Также можно заменить нормальное распределение ошибок на какое-то другое и заняться максимизацией своей собственной функции правдоподобия. Правда придётся реализовать её вручную по аналогии с тем, что мы делали на неделе про правдоподобие. "
   ]
  },
  {
   "cell_type": "markdown",
   "metadata": {},
   "source": [
    "# 6. Кросс-валидация\n",
    "\n",
    "Выше мы оценивали модель на тренировочном периоде, а дальше строили прогноз на весь тестовый. Дальше мы считали ошибку. Это не очень корректно, так как строить прогноз на неделю вперёд сложнее, чем на сутки вперёд. \n",
    "\n",
    "Гораздо корректнее сделать кросс-валидацию со скользящим окном и сравнить модели между собой на разных горизонтах прогнозирования. "
   ]
  },
  {
   "cell_type": "code",
   "execution_count": 36,
   "metadata": {},
   "outputs": [],
   "source": [
    "from sklearn.model_selection import TimeSeriesSplit\n",
    "import statsmodels.api as sm"
   ]
  },
  {
   "cell_type": "markdown",
   "metadata": {},
   "source": [
    "Посмотрим в документацию. Там пишут, что размер тренировочных выборок на $i$-ой итерации:  \n",
    "\n",
    "``i * n_samples // (n_splits + 1) + n_samples % (n_splits + 1)`` \n",
    "\n",
    "Размер тестовой выборки на $i$-ой итерации: \n",
    "\n",
    "``n_samples//(n_splits + 1)``"
   ]
  },
  {
   "cell_type": "code",
   "execution_count": 32,
   "metadata": {},
   "outputs": [
    {
     "name": "stdout",
     "output_type": "stream",
     "text": [
      "TRAIN: [0 1 2 3] TEST: [4 5]\n",
      "TRAIN: [0 1 2 3 4 5] TEST: [6 7]\n",
      "TRAIN: [0 1 2 3 4 5 6 7] TEST: [8 9]\n"
     ]
    }
   ],
   "source": [
    "z = np.arange(10)\n",
    "\n",
    "tscv = TimeSeriesSplit(n_splits=3) #, max_train_size=5)\n",
    "\n",
    "for train_index, test_index in tscv.split(z):\n",
    "    print(\"TRAIN:\", train_index, \"TEST:\", test_index)"
   ]
  },
  {
   "cell_type": "markdown",
   "metadata": {},
   "source": [
    "Настроим разбиение так, чтобы в тесте всегда было 7 наблюдений."
   ]
  },
  {
   "cell_type": "code",
   "execution_count": 33,
   "metadata": {},
   "outputs": [
    {
     "data": {
      "text/plain": [
       "27"
      ]
     },
     "execution_count": 33,
     "metadata": {},
     "output_type": "execute_result"
    }
   ],
   "source": [
    "n_samples = y.size\n",
    "n_splits = y.size // 8\n",
    "\n",
    "# начинаем строить модель с 27 наблюдения\n",
    "n_samples // (n_splits + 1) + n_samples % (n_splits + 1)"
   ]
  },
  {
   "cell_type": "code",
   "execution_count": 34,
   "metadata": {},
   "outputs": [
    {
     "data": {
      "text/plain": [
       "7"
      ]
     },
     "execution_count": 34,
     "metadata": {},
     "output_type": "execute_result"
    }
   ],
   "source": [
    "# в тесте каждый раз по 7 наблюдений\n",
    "n_samples//(n_splits + 1)"
   ]
  },
  {
   "cell_type": "code",
   "execution_count": 39,
   "metadata": {},
   "outputs": [
    {
     "data": {
      "text/plain": [
       "TimeSeriesSplit(gap=0, max_train_size=None, n_splits=27, test_size=None)"
      ]
     },
     "execution_count": 39,
     "metadata": {},
     "output_type": "execute_result"
    }
   ],
   "source": [
    "tscv"
   ]
  },
  {
   "cell_type": "code",
   "execution_count": 40,
   "metadata": {},
   "outputs": [
    {
     "name": "stderr",
     "output_type": "stream",
     "text": [
      "C:\\Users\\Пользователь\\AppData\\Local\\Temp\\ipykernel_32112\\2578293843.py:13: FutureWarning: Series.__getitem__ treating keys as positions is deprecated. In a future version, integer keys will always be treated as labels (consistent with DataFrame behavior). To access a value by position, use `ser.iloc[pos]`\n",
      "  y_tr, y_ts = y[train].values, y[test].values\n"
     ]
    },
    {
     "ename": "ValueError",
     "evalue": "Cannot compute initial seasonals using heuristic method with less than two full seasonal cycles in the data.",
     "output_type": "error",
     "traceback": [
      "\u001b[1;31m---------------------------------------------------------------------------\u001b[0m",
      "\u001b[1;31mValueError\u001b[0m                                Traceback (most recent call last)",
      "Cell \u001b[1;32mIn[40], line 16\u001b[0m\n\u001b[0;32m     13\u001b[0m y_tr, y_ts \u001b[38;5;241m=\u001b[39m y[train]\u001b[38;5;241m.\u001b[39mvalues, y[test]\u001b[38;5;241m.\u001b[39mvalues\n\u001b[0;32m     15\u001b[0m \u001b[38;5;66;03m# Первая модель\u001b[39;00m\n\u001b[1;32m---> 16\u001b[0m model \u001b[38;5;241m=\u001b[39m sm\u001b[38;5;241m.\u001b[39mtsa\u001b[38;5;241m.\u001b[39mstatespace\u001b[38;5;241m.\u001b[39mExponentialSmoothing(y_tr, trend\u001b[38;5;241m=\u001b[39m\u001b[38;5;28;01mTrue\u001b[39;00m, seasonal\u001b[38;5;241m=\u001b[39m\u001b[38;5;241m48\u001b[39m)\u001b[38;5;241m.\u001b[39mfit()\n\u001b[0;32m     17\u001b[0m y_hat \u001b[38;5;241m=\u001b[39m model\u001b[38;5;241m.\u001b[39mget_forecast(h)\u001b[38;5;241m.\u001b[39msummary_frame()[\u001b[38;5;124m'\u001b[39m\u001b[38;5;124mmean\u001b[39m\u001b[38;5;124m'\u001b[39m]\n\u001b[0;32m     18\u001b[0m M[\u001b[38;5;124m'\u001b[39m\u001b[38;5;124mETS(A A A)\u001b[39m\u001b[38;5;124m'\u001b[39m]\u001b[38;5;241m.\u001b[39mappend(mape(y_ts, y_hat\u001b[38;5;241m.\u001b[39mvalues))\n",
      "File \u001b[1;32mc:\\ProgramData\\anaconda3\\Lib\\site-packages\\statsmodels\\tsa\\statespace\\mlemodel.py:649\u001b[0m, in \u001b[0;36mMLEModel.fit\u001b[1;34m(self, start_params, transformed, includes_fixed, cov_type, cov_kwds, method, maxiter, full_output, disp, callback, return_params, optim_score, optim_complex_step, optim_hessian, flags, low_memory, **kwargs)\u001b[0m\n\u001b[0;32m    529\u001b[0m \u001b[38;5;250m\u001b[39m\u001b[38;5;124;03m\"\"\"\u001b[39;00m\n\u001b[0;32m    530\u001b[0m \u001b[38;5;124;03mFits the model by maximum likelihood via Kalman filter.\u001b[39;00m\n\u001b[0;32m    531\u001b[0m \n\u001b[1;32m   (...)\u001b[0m\n\u001b[0;32m    646\u001b[0m \u001b[38;5;124;03mstatsmodels.tsa.statespace.structural.UnobservedComponentsResults\u001b[39;00m\n\u001b[0;32m    647\u001b[0m \u001b[38;5;124;03m\"\"\"\u001b[39;00m\n\u001b[0;32m    648\u001b[0m \u001b[38;5;28;01mif\u001b[39;00m start_params \u001b[38;5;129;01mis\u001b[39;00m \u001b[38;5;28;01mNone\u001b[39;00m:\n\u001b[1;32m--> 649\u001b[0m     start_params \u001b[38;5;241m=\u001b[39m \u001b[38;5;28mself\u001b[39m\u001b[38;5;241m.\u001b[39mstart_params\n\u001b[0;32m    650\u001b[0m     transformed \u001b[38;5;241m=\u001b[39m \u001b[38;5;28;01mTrue\u001b[39;00m\n\u001b[0;32m    651\u001b[0m     includes_fixed \u001b[38;5;241m=\u001b[39m \u001b[38;5;28;01mTrue\u001b[39;00m\n",
      "File \u001b[1;32mc:\\ProgramData\\anaconda3\\Lib\\site-packages\\statsmodels\\tsa\\statespace\\exponential_smoothing.py:383\u001b[0m, in \u001b[0;36mExponentialSmoothing.start_params\u001b[1;34m(self)\u001b[0m\n\u001b[0;32m    380\u001b[0m \u001b[38;5;66;03m# Initialization\u001b[39;00m\n\u001b[0;32m    381\u001b[0m \u001b[38;5;28;01mif\u001b[39;00m \u001b[38;5;28mself\u001b[39m\u001b[38;5;241m.\u001b[39minitialization_method \u001b[38;5;241m==\u001b[39m \u001b[38;5;124m'\u001b[39m\u001b[38;5;124mestimated\u001b[39m\u001b[38;5;124m'\u001b[39m:\n\u001b[0;32m    382\u001b[0m     initial_level, initial_trend, initial_seasonal \u001b[38;5;241m=\u001b[39m (\n\u001b[1;32m--> 383\u001b[0m         es_init\u001b[38;5;241m.\u001b[39m_initialization_simple(\n\u001b[0;32m    384\u001b[0m             \u001b[38;5;28mself\u001b[39m\u001b[38;5;241m.\u001b[39mendog[:, \u001b[38;5;241m0\u001b[39m],\n\u001b[0;32m    385\u001b[0m             trend\u001b[38;5;241m=\u001b[39m\u001b[38;5;124m'\u001b[39m\u001b[38;5;124madd\u001b[39m\u001b[38;5;124m'\u001b[39m \u001b[38;5;28;01mif\u001b[39;00m \u001b[38;5;28mself\u001b[39m\u001b[38;5;241m.\u001b[39mtrend \u001b[38;5;28;01melse\u001b[39;00m \u001b[38;5;28;01mNone\u001b[39;00m,\n\u001b[0;32m    386\u001b[0m             seasonal\u001b[38;5;241m=\u001b[39m\u001b[38;5;124m'\u001b[39m\u001b[38;5;124madd\u001b[39m\u001b[38;5;124m'\u001b[39m \u001b[38;5;28;01mif\u001b[39;00m \u001b[38;5;28mself\u001b[39m\u001b[38;5;241m.\u001b[39mseasonal \u001b[38;5;28;01melse\u001b[39;00m \u001b[38;5;28;01mNone\u001b[39;00m,\n\u001b[0;32m    387\u001b[0m             seasonal_periods\u001b[38;5;241m=\u001b[39m\u001b[38;5;28mself\u001b[39m\u001b[38;5;241m.\u001b[39mseasonal_periods))\n\u001b[0;32m    388\u001b[0m     start_params \u001b[38;5;241m+\u001b[39m\u001b[38;5;241m=\u001b[39m [initial_level]\n\u001b[0;32m    389\u001b[0m     \u001b[38;5;28;01mif\u001b[39;00m \u001b[38;5;28mself\u001b[39m\u001b[38;5;241m.\u001b[39mtrend:\n",
      "File \u001b[1;32mc:\\ProgramData\\anaconda3\\Lib\\site-packages\\statsmodels\\tsa\\exponential_smoothing\\initialization.py:26\u001b[0m, in \u001b[0;36m_initialization_simple\u001b[1;34m(endog, trend, seasonal, seasonal_periods)\u001b[0m\n\u001b[0;32m     23\u001b[0m \u001b[38;5;66;03m# Seasonal\u001b[39;00m\n\u001b[0;32m     24\u001b[0m \u001b[38;5;28;01melse\u001b[39;00m:\n\u001b[0;32m     25\u001b[0m     \u001b[38;5;28;01mif\u001b[39;00m nobs \u001b[38;5;241m<\u001b[39m \u001b[38;5;241m2\u001b[39m \u001b[38;5;241m*\u001b[39m seasonal_periods:\n\u001b[1;32m---> 26\u001b[0m         \u001b[38;5;28;01mraise\u001b[39;00m \u001b[38;5;167;01mValueError\u001b[39;00m(\u001b[38;5;124m'\u001b[39m\u001b[38;5;124mCannot compute initial seasonals using\u001b[39m\u001b[38;5;124m'\u001b[39m\n\u001b[0;32m     27\u001b[0m                          \u001b[38;5;124m'\u001b[39m\u001b[38;5;124m heuristic method with less than two full\u001b[39m\u001b[38;5;124m'\u001b[39m\n\u001b[0;32m     28\u001b[0m                          \u001b[38;5;124m'\u001b[39m\u001b[38;5;124m seasonal cycles in the data.\u001b[39m\u001b[38;5;124m'\u001b[39m)\n\u001b[0;32m     30\u001b[0m     initial_level \u001b[38;5;241m=\u001b[39m np\u001b[38;5;241m.\u001b[39mmean(endog[:seasonal_periods])\n\u001b[0;32m     31\u001b[0m     m \u001b[38;5;241m=\u001b[39m seasonal_periods\n",
      "\u001b[1;31mValueError\u001b[0m: Cannot compute initial seasonals using heuristic method with less than two full seasonal cycles in the data."
     ]
    }
   ],
   "source": [
    "from collections import defaultdict\n",
    "\n",
    "n_splits = y.size // 8          # для того, чтобы в тесте каждый раз было 7 наблюдений\n",
    "h = n_samples//(n_splits + 1)   # число наблюдений в тестовой выборке \n",
    "\n",
    "M = defaultdict(list) # для метрик\n",
    "\n",
    "def mape(y_true, y_pred): \n",
    "    return np.abs((y_true - y_pred) / y_true)* 100\n",
    "\n",
    "tscv = TimeSeriesSplit(n_splits=n_splits) \n",
    "for train, test in tscv.split(y):\n",
    "    y_tr, y_ts = y[train].values, y[test].values\n",
    "    \n",
    "    # Первая модель\n",
    "    model = sm.tsa.statespace.ExponentialSmoothing(y_tr, trend=True, seasonal=48).fit()\n",
    "    y_hat = model.get_forecast(h).summary_frame()['mean']\n",
    "    M['ETS(A A A)'].append(mape(y_ts, y_hat.values))\n",
    "    \n",
    "    # Вторая модель\n",
    "    model = sm.tsa.statespace.ExponentialSmoothing(y_tr, trend=True, seasonal=24, damped_trend=True).fit()\n",
    "    y_hat = model.get_forecast(h).summary_frame()['mean']\n",
    "    M['ETS(A Ad A)'].append(mape(y_ts, y_hat.values))"
   ]
  },
  {
   "cell_type": "code",
   "execution_count": 41,
   "metadata": {},
   "outputs": [
    {
     "data": {
      "text/plain": [
       "array([], dtype=float64)"
      ]
     },
     "execution_count": 41,
     "metadata": {},
     "output_type": "execute_result"
    }
   ],
   "source": [
    "# Ошибки при кросс-валидации из текущей точки на 7 дней вперёд\n",
    "np.array(M['ETS(A A A)'])"
   ]
  },
  {
   "cell_type": "code",
   "execution_count": null,
   "metadata": {
    "scrolled": false
   },
   "outputs": [
    {
     "data": {
      "image/png": "[encoded data removed]",
      "text/plain": [
       "<Figure size 864x432 with 1 Axes>"
      ]
     },
     "metadata": {
      "needs_background": "light"
     },
     "output_type": "display_data"
    }
   ],
   "source": [
    "plt.figure(figsize=(12,6))\n",
    "for m in M.keys():\n",
    "    plt.plot(np.arange(1,h+1),np.array(M[m]).mean(axis=0), label=m)\n",
    "    \n",
    "plt.xlabel('Горизонт прогнозирования', fontsize=16)\n",
    "plt.ylabel('MAPE', fontsize=16)\n",
    "plt.legend(fontsize=16);"
   ]
  },
  {
   "cell_type": "markdown",
   "metadata": {},
   "source": [
    "Видно, что на $1-2$ дня модели прогнозируют примерно одинаково, а дальше качество расходится. "
   ]
  },
  {
   "cell_type": "markdown",
   "metadata": {},
   "source": [
    "# 7. LOO кросс-валидация\n",
    "\n",
    "LOO кросс-валидацию можно сделать более элегантно, с помощью оконных функций в `pandas`."
   ]
  },
  {
   "cell_type": "code",
   "execution_count": null,
   "metadata": {},
   "outputs": [],
   "source": [
    "def timeseries_cv(y, metric=mape, treshhold=0.8):\n",
    "    \n",
    "    # последний день всегда в тестовой выборке\n",
    "    y_train = y[:-1].values\n",
    "    y_test = y[-1:].values\n",
    "    \n",
    "    # на каждой выборке обучаем модель\n",
    "    model = sm.tsa.statespace.ExponentialSmoothing(y_train, trend=True, seasonal=24)\n",
    "    res = model.fit()\n",
    "    \n",
    "    # делаем прогноз и находим качество прогноза\n",
    "    y_hat = res.get_forecast(1).summary_frame()['mean']\n",
    "    return metric(y_test, y_hat)"
   ]
  },
  {
   "cell_type": "markdown",
   "metadata": {},
   "source": [
    "Функция прогнозирует на день вперёд и вычисляет ошибку. "
   ]
  },
  {
   "cell_type": "code",
   "execution_count": null,
   "metadata": {},
   "outputs": [
    {
     "data": {
      "text/plain": [
       "0    3.548377\n",
       "Name: mean, dtype: float64"
      ]
     },
     "execution_count": 41,
     "metadata": {},
     "output_type": "execute_result"
    }
   ],
   "source": [
    "timeseries_cv(y)"
   ]
  },
  {
   "cell_type": "markdown",
   "metadata": {},
   "source": [
    "Воспользуемся методами `expanding` и `rolling`."
   ]
  },
  {
   "cell_type": "markdown",
   "metadata": {},
   "source": [
    "![](./expanding&rolling.jpeg) "
   ]
  },
  {
   "cell_type": "code",
   "execution_count": null,
   "metadata": {},
   "outputs": [],
   "source": [
    "min_period = int(0.8*y.size)"
   ]
  },
  {
   "cell_type": "code",
   "execution_count": null,
   "metadata": {},
   "outputs": [
    {
     "data": {
      "text/plain": [
       "3.2075568859543044"
      ]
     },
     "execution_count": 43,
     "metadata": {},
     "output_type": "execute_result"
    }
   ],
   "source": [
    "# расширяющееся окно\n",
    "quality = y.expanding(min_period).apply(lambda x: timeseries_cv(x))\n",
    "quality.dropna().mean()"
   ]
  },
  {
   "cell_type": "code",
   "execution_count": null,
   "metadata": {},
   "outputs": [
    {
     "data": {
      "text/plain": [
       "3.620411372451665"
      ]
     },
     "execution_count": 44,
     "metadata": {},
     "output_type": "execute_result"
    }
   ],
   "source": [
    "# скользящее окно\n",
    "quality = y.rolling(min_period).apply(lambda x: timeseries_cv(x))\n",
    "quality.dropna().mean()"
   ]
  },
  {
   "cell_type": "markdown",
   "metadata": {},
   "source": [
    "  "
   ]
  }
 ],
 "metadata": {
  "kernelspec": {
   "display_name": "base",
   "language": "python",
   "name": "python3"
  },
  "language_info": {
   "codemirror_mode": {
    "name": "ipython",
    "version": 3
   },
   "file_extension": ".py",
   "mimetype": "text/x-python",
   "name": "python",
   "nbconvert_exporter": "python",
   "pygments_lexer": "ipython3",
   "version": "3.12.7"
  }
 },
 "nbformat": 4,
 "nbformat_minor": 4
}
